{
 "cells": [
  {
   "cell_type": "markdown",
   "id": "abb98b34-30df-40b6-8ce0-36e6d5fb299f",
   "metadata": {},
   "source": [
    "## Safe execution of parallel tasks (advanced)"
   ]
  },
  {
   "cell_type": "markdown",
   "id": "42ea64b7-89f4-4c07-9cbd-d07963d66580",
   "metadata": {},
   "source": [
    "There are certain situations you need to avoid when running GRASS tools in parallel:\n",
    "\n",
    " * write output maps/files with identical names\n",
    " * modify computational region when running within the same mapset\n",
    " * modify MASK when running within the same mapset\n",
    " * modify vector attribute database within the same mapset\n",
    " * use [r.reclass](https://grass.osgeo.org/grass-stable/manuals/r.reclass.html) to reclassify from the same base map\n",
    "\n",
    "\n",
    "The following examples show how to deal with some of these situations when running parallel tasks in the same mapset is desired."
   ]
  },
  {
   "cell_type": "markdown",
   "id": "d84b36a8-15c1-4822-a339-b5cdf0b1369a",
   "metadata": {},
   "source": [
    "### Safely modifying computational region in a single mapset\n",
    "\n",
    "Sometimes modifying computational region in a script is needed. It is a good practice to not change the global computational region, which effectively modifies a file in a mapset,\n",
    "but only change the environment variable `GRASS_REGION`.\n",
    "Here, we modified the previous viewshed example to compute in parallel viewsheds with different extents:"
   ]
  },
  {
   "cell_type": "code",
   "execution_count": null,
   "id": "fb423292-7ae1-4266-96fe-65cfc2e88d63",
   "metadata": {},
   "outputs": [],
   "source": [
    "%%writefile example.py\n",
    "import os\n",
    "from multiprocessing import Pool\n",
    "import grass.script as gs\n",
    "\n",
    "def viewshed(point):\n",
    "    x, y, cat = point\n",
    "    # copy current environment, modify and pass it to r.viewshed\n",
    "    env = os.environ.copy()\n",
    "    maxdistance = 10000\n",
    "    # create region based on the viewpoint and maxdistance\n",
    "    env[\"GRASS_REGION\"] = gs.region_env(e=x + maxdistance, w=x - maxdistance, n=y + maxdistance, s=y - maxdistance, align=\"DEM\")\n",
    "    gs.run_command(\"r.viewshed\", input=\"DEM\", output=f\"viewshed_{cat}\", coordinates=(x, y), max_distance=maxdistance, env=env)\n",
    "    return f\"viewshed_{cat}\"\n",
    "\n",
    "if __name__ == \"__main__\":\n",
    "    viewpoints = [(594231, 275545, 1),\n",
    "                  (659805, 259566, 2),\n",
    "                  (646109, 232901, 3),\n",
    "                  (602946, 203226, 4)]\n",
    "    with Pool(processes=2) as pool:\n",
    "        maps = pool.map(viewshed, viewpoints)\n",
    "    print(maps)"
   ]
  },
  {
   "cell_type": "code",
   "execution_count": null,
   "id": "6d91d0b7-a0fe-469d-9a95-5604d0597a1a",
   "metadata": {},
   "outputs": [],
   "source": [
    "%run example.py"
   ]
  },
  {
   "cell_type": "markdown",
   "id": "0a1b08a5-7a9d-4d44-98af-b2d367351b56",
   "metadata": {},
   "source": [
    "### Safely modifying vectors with attributes in a single mapset"
   ]
  },
  {
   "cell_type": "markdown",
   "id": "0eee1df4-9232-4714-86a0-d0409c298ddb",
   "metadata": {},
   "source": [
    "By default vector maps share a single SQLite database file, however SQLite does not support concurrent write access. That poses a problem when modifying vectors with attributes in parallel. While this can be solved by running the computations in separate mapsets, it is also possible to change the default behavior to write attributes of each vector to the vector's individual SQLite file. This behavior can be activated after a new mapset is created with:\n",
    "\n",
    "```\n",
    " db.connect driver=sqlite database='$GISDBASE/$LOCATION_NAME/$MAPSET/vector/$MAP/sqlite.db'\n",
    "```\n",
    "\n",
    "Alternatively, a PostgreSQL or another database backend can be used for attributes to offload the parallel writing to the database system."
   ]
  }
 ],
 "metadata": {
  "kernelspec": {
   "display_name": "Python 3 (ipykernel)",
   "language": "python",
   "name": "python3"
  },
  "language_info": {
   "codemirror_mode": {
    "name": "ipython",
    "version": 3
   },
   "file_extension": ".py",
   "mimetype": "text/x-python",
   "name": "python",
   "nbconvert_exporter": "python",
   "pygments_lexer": "ipython3",
   "version": "3.8.13"
  }
 },
 "nbformat": 4,
 "nbformat_minor": 5
}
